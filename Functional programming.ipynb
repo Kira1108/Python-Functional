{
 "cells": [
  {
   "cell_type": "markdown",
   "metadata": {},
   "source": [
    "### First problem: How to determined the value of a variable in a computer program\n",
    "\n",
    "**Answer: LEGB [local, enclosing, global, builtin]**"
   ]
  },
  {
   "cell_type": "markdown",
   "metadata": {},
   "source": [
    "*Access global variable inside a scope*"
   ]
  },
  {
   "cell_type": "code",
   "execution_count": 1,
   "metadata": {},
   "outputs": [
    {
     "name": "stdout",
     "output_type": "stream",
     "text": [
      "x inside: global\n",
      "x outside: global\n"
     ]
    }
   ],
   "source": [
    "x = \"global\"\n",
    "\n",
    "def foo():\n",
    "    print(\"x inside:\", x)\n",
    "\n",
    "\n",
    "foo()\n",
    "print(\"x outside:\", x)"
   ]
  },
  {
   "cell_type": "markdown",
   "metadata": {},
   "source": [
    "*Modify a global variable inside a scope*"
   ]
  },
  {
   "cell_type": "code",
   "execution_count": 2,
   "metadata": {},
   "outputs": [
    {
     "name": "stdout",
     "output_type": "stream",
     "text": [
      "x inside: global123\n",
      "x outside: global123\n"
     ]
    }
   ],
   "source": [
    "x = \"global\"\n",
    "\n",
    "def foo():\n",
    "    global x  # to be commented\n",
    "    x += '123'\n",
    "    print(\"x inside:\", x)\n",
    "\n",
    "\n",
    "foo()\n",
    "print(\"x outside:\", x)"
   ]
  },
  {
   "cell_type": "markdown",
   "metadata": {},
   "source": [
    "*Use global variable together with local variable*"
   ]
  },
  {
   "cell_type": "code",
   "execution_count": 3,
   "metadata": {},
   "outputs": [
    {
     "name": "stdout",
     "output_type": "stream",
     "text": [
      "global global \n",
      "local\n"
     ]
    }
   ],
   "source": [
    "x = \"global \"\n",
    "\n",
    "def foo():\n",
    "    global x\n",
    "    y = \"local\"\n",
    "    x = x * 2\n",
    "    print(x)\n",
    "    print(y)\n",
    "\n",
    "foo()"
   ]
  },
  {
   "cell_type": "markdown",
   "metadata": {},
   "source": [
    "*Use local vairable outside scope*"
   ]
  },
  {
   "cell_type": "code",
   "execution_count": 4,
   "metadata": {},
   "outputs": [],
   "source": [
    "# def foo():\n",
    "#     y = \"local\"\n",
    "\n",
    "\n",
    "# foo()\n",
    "# print(y)"
   ]
  },
  {
   "cell_type": "markdown",
   "metadata": {},
   "source": [
    "<font color='darkred'>**Warning: Avoid Global Variables**</font>                    \n",
    "Programs with global variables are difficult to maintain and extend because you can no longer view each function as a “black box” that simply receives arguments and returns a result.         \n",
    "\n",
    "When functions modify global variables, it becomes more difficult to understand the effect of function calls. As programs get larger, this difficulty mounts quickly. Instead of using global variables, use function parameter variables and return values to transfer information from one part of a program to another. \n",
    "\n",
    "Global constants, however, are fine. You can place them at the top of a Python source file and access (but not modify) them in any of the functions in the file. Do not use a global declaration to access constants.       "
   ]
  },
  {
   "cell_type": "markdown",
   "metadata": {},
   "source": [
    "*Nested function - nested scope*"
   ]
  },
  {
   "cell_type": "code",
   "execution_count": 5,
   "metadata": {},
   "outputs": [],
   "source": [
    "def foo():\n",
    "    x = 123\n",
    "    def bar():\n",
    "        print(x)\n",
    "    return bar"
   ]
  },
  {
   "cell_type": "code",
   "execution_count": 6,
   "metadata": {},
   "outputs": [
    {
     "name": "stdout",
     "output_type": "stream",
     "text": [
      "123\n"
     ]
    }
   ],
   "source": [
    "f = foo()\n",
    "f()"
   ]
  },
  {
   "cell_type": "markdown",
   "metadata": {},
   "source": [
    "*Memorize nonlocal variable in `.__closure__` when it is* **necessary**"
   ]
  },
  {
   "cell_type": "code",
   "execution_count": 7,
   "metadata": {},
   "outputs": [],
   "source": [
    "def foo():\n",
    "    x = 123\n",
    "    def bar():\n",
    "        nonlocal x\n",
    "        x += 1\n",
    "        print(x)\n",
    "    return bar"
   ]
  },
  {
   "cell_type": "code",
   "execution_count": 8,
   "metadata": {},
   "outputs": [],
   "source": [
    "f = foo()"
   ]
  },
  {
   "cell_type": "code",
   "execution_count": 9,
   "metadata": {},
   "outputs": [
    {
     "name": "stdout",
     "output_type": "stream",
     "text": [
      "124\n"
     ]
    },
    {
     "data": {
      "text/plain": [
       "124"
      ]
     },
     "execution_count": 9,
     "metadata": {},
     "output_type": "execute_result"
    }
   ],
   "source": [
    "f()\n",
    "f.__closure__[0].cell_contents"
   ]
  },
  {
   "cell_type": "markdown",
   "metadata": {},
   "source": [
    "*Incase nonlocal variable is not nessary for closure function*"
   ]
  },
  {
   "cell_type": "code",
   "execution_count": 10,
   "metadata": {},
   "outputs": [],
   "source": [
    "def foo():\n",
    "    x = 123\n",
    "    def bar():\n",
    "        print(555)    # you don't have to memroize x inside bar function\n",
    "    return bar"
   ]
  },
  {
   "cell_type": "code",
   "execution_count": 11,
   "metadata": {},
   "outputs": [
    {
     "name": "stdout",
     "output_type": "stream",
     "text": [
      "555\n"
     ]
    },
    {
     "data": {
      "text/plain": [
       "True"
      ]
     },
     "execution_count": 11,
     "metadata": {},
     "output_type": "execute_result"
    }
   ],
   "source": [
    "f = foo()\n",
    "f()\n",
    "f.__closure__ is None"
   ]
  },
  {
   "cell_type": "markdown",
   "metadata": {},
   "source": [
    "### Nested function & Nested scope"
   ]
  },
  {
   "cell_type": "code",
   "execution_count": 13,
   "metadata": {},
   "outputs": [],
   "source": [
    "def outer(a):\n",
    "    b = a                             # b is local variable for outer, a is also a local variable for outer\n",
    "    def inner():\n",
    "        c = 3                         # c is local variable of inner, b is non-local variable for inner\n",
    "        def inner_inner(b):           # new local variable b is defined, b is local for inner_inner, but is not the one defined in outer\n",
    "            r = b+c                   # r is local variable for inner_inner, c is non-local variable for inner_inner\n",
    "            return b+c\n",
    "        return inner_inner\n",
    "    return inner\n",
    "foo = outer(10)\n",
    "bar = foo()"
   ]
  },
  {
   "cell_type": "code",
   "execution_count": 203,
   "metadata": {},
   "outputs": [
    {
     "data": {
      "text/plain": [
       "(True, 3)"
      ]
     },
     "execution_count": 203,
     "metadata": {},
     "output_type": "execute_result"
    }
   ],
   "source": [
    "foo.__closure__ is None, bar.__closure__[0].cell_contents"
   ]
  },
  {
   "cell_type": "markdown",
   "metadata": {},
   "source": [
    "*Use variable `a` inside `inner`*"
   ]
  },
  {
   "cell_type": "code",
   "execution_count": 35,
   "metadata": {},
   "outputs": [],
   "source": [
    "def outer(a):\n",
    "    b = a                            \n",
    "    def inner():\n",
    "        c = 3 \n",
    "        def inner_inner(b):\n",
    "            r = b+ c + a # use a \n",
    "            return b+c\n",
    "        return inner_inner\n",
    "    return inner\n",
    "foo = outer(10)\n",
    "bar = foo()"
   ]
  },
  {
   "cell_type": "code",
   "execution_count": 36,
   "metadata": {},
   "outputs": [
    {
     "data": {
      "text/plain": [
       "(False, 10)"
      ]
     },
     "execution_count": 36,
     "metadata": {},
     "output_type": "execute_result"
    }
   ],
   "source": [
    "foo.__closure__ is None, bar.__closure__[0].cell_contents"
   ]
  },
  {
   "cell_type": "code",
   "execution_count": 37,
   "metadata": {},
   "outputs": [
    {
     "data": {
      "text/plain": [
       "7"
      ]
     },
     "execution_count": 37,
     "metadata": {},
     "output_type": "execute_result"
    }
   ],
   "source": [
    "bar(4)"
   ]
  },
  {
   "cell_type": "markdown",
   "metadata": {},
   "source": [
    "*Modify `a` in `inner_inner`*"
   ]
  },
  {
   "cell_type": "code",
   "execution_count": 41,
   "metadata": {},
   "outputs": [],
   "source": [
    "def outer(a):\n",
    "    b = a                            \n",
    "    def inner():\n",
    "        c = 3 \n",
    "        def inner_inner(b):\n",
    "            a += 1\n",
    "            r = b+ c + a # use a \n",
    "            return b+c\n",
    "        return inner_inner\n",
    "    return inner\n",
    "foo = outer(10)\n",
    "bar = foo()"
   ]
  },
  {
   "cell_type": "code",
   "execution_count": 43,
   "metadata": {},
   "outputs": [
    {
     "data": {
      "text/plain": [
       "(True, 3)"
      ]
     },
     "execution_count": 43,
     "metadata": {},
     "output_type": "execute_result"
    }
   ],
   "source": [
    "foo.__closure__ is None, bar.__closure__[0].cell_contents"
   ]
  },
  {
   "cell_type": "code",
   "execution_count": 45,
   "metadata": {},
   "outputs": [],
   "source": [
    "# bar(4)"
   ]
  },
  {
   "cell_type": "markdown",
   "metadata": {},
   "source": [
    "*Although `a` is in outer scope of outer scope of `inner_inner`, it is found in nonlocal space, `__closure__` attribute*"
   ]
  },
  {
   "cell_type": "code",
   "execution_count": 46,
   "metadata": {},
   "outputs": [],
   "source": [
    "def outer(a):\n",
    "    b = a                            \n",
    "    def inner():\n",
    "        c = 3 \n",
    "        def inner_inner(b):\n",
    "            nonlocal a\n",
    "            a += 1\n",
    "            r = b + c + a # use a \n",
    "            return b+c\n",
    "        return inner_inner\n",
    "    return inner\n",
    "foo = outer(10)\n",
    "bar = foo()"
   ]
  },
  {
   "cell_type": "code",
   "execution_count": 49,
   "metadata": {},
   "outputs": [
    {
     "data": {
      "text/plain": [
       "(False, 11)"
      ]
     },
     "execution_count": 49,
     "metadata": {},
     "output_type": "execute_result"
    }
   ],
   "source": [
    "foo.__closure__ is None, bar.__closure__[0].cell_contents"
   ]
  },
  {
   "cell_type": "code",
   "execution_count": 50,
   "metadata": {},
   "outputs": [
    {
     "data": {
      "text/plain": [
       "7"
      ]
     },
     "execution_count": 50,
     "metadata": {},
     "output_type": "execute_result"
    }
   ],
   "source": [
    "bar(4)"
   ]
  },
  {
   "cell_type": "markdown",
   "metadata": {},
   "source": [
    "### Modify nonlocal variable"
   ]
  },
  {
   "cell_type": "markdown",
   "metadata": {},
   "source": [
    "*Functions are objects, objects have attributes and methods*"
   ]
  },
  {
   "cell_type": "code",
   "execution_count": 126,
   "metadata": {},
   "outputs": [
    {
     "name": "stdout",
     "output_type": "stream",
     "text": [
      "cameldata666\n",
      "334\n"
     ]
    }
   ],
   "source": [
    "def abc():\n",
    "    pass\n",
    "\n",
    "setattr(abc,'haha', 'cameldata666')\n",
    "setattr(abc,'haha_func', lambda x:print(x+1))\n",
    "\n",
    "print(abc.haha)\n",
    "abc.haha_func(333)"
   ]
  },
  {
   "cell_type": "code",
   "execution_count": 114,
   "metadata": {},
   "outputs": [],
   "source": [
    "def sample():\n",
    "    n = 0\n",
    "    \n",
    "    # Closure function\n",
    "    def func():\n",
    "        print('n=', n)\n",
    "        \n",
    "    # Accessor methods for n\n",
    "    def get_n():\n",
    "        return n\n",
    "    def set_n(value):\n",
    "        nonlocal n\n",
    "        n = value\n",
    "        \n",
    "    # Attach as function attributes\n",
    "    setattr(func, 'get_n', get_n)\n",
    "    setattr(func,'set_n', set_n)\n",
    "\n",
    "    return func"
   ]
  },
  {
   "cell_type": "markdown",
   "metadata": {},
   "source": [
    "*`n` is defined in factory function `sample`*"
   ]
  },
  {
   "cell_type": "code",
   "execution_count": 115,
   "metadata": {},
   "outputs": [],
   "source": [
    "sample_func = sample()"
   ]
  },
  {
   "cell_type": "code",
   "execution_count": 116,
   "metadata": {},
   "outputs": [
    {
     "name": "stdout",
     "output_type": "stream",
     "text": [
      "n= 0\n"
     ]
    }
   ],
   "source": [
    "sample_func()"
   ]
  },
  {
   "cell_type": "markdown",
   "metadata": {},
   "source": [
    "*Nonlocal variblae `n` modified in `set_n` function*"
   ]
  },
  {
   "cell_type": "code",
   "execution_count": 117,
   "metadata": {},
   "outputs": [],
   "source": [
    "sample_func.set_n(10)"
   ]
  },
  {
   "cell_type": "code",
   "execution_count": 118,
   "metadata": {},
   "outputs": [
    {
     "name": "stdout",
     "output_type": "stream",
     "text": [
      "n= 10\n"
     ]
    }
   ],
   "source": [
    "sample_func()"
   ]
  },
  {
   "cell_type": "markdown",
   "metadata": {},
   "source": [
    "State: game              \n",
    "Function: with_user_type            \n",
    "\n",
    "我必须知道你用with_user_type 得state，才能决定你怎么用with_user_type函数                \n",
    "如果你非要用。。。with_user_type...且被装饰得函数使用得状态还是一直变，那你不如写循环啊    \n",
    "或者啊，被装饰得函数，要有修改nonlocal variable  - `game`的能力"
   ]
  },
  {
   "cell_type": "markdown",
   "metadata": {},
   "source": [
    "### Return function, why:\n",
    "1. Outter function is like a factory, manufacuring functions base on some conditions\n",
    "2. Inner functions is a specific function to be used directly in business\n",
    "**The logic of inner function frequently changes overtime, you need to modify code frequently**"
   ]
  },
  {
   "cell_type": "markdown",
   "metadata": {},
   "source": [
    "**Return / manufacture functions**"
   ]
  },
  {
   "cell_type": "code",
   "execution_count": 39,
   "metadata": {},
   "outputs": [],
   "source": [
    "# plura exmaple"
   ]
  },
  {
   "cell_type": "markdown",
   "metadata": {},
   "source": [
    "### A decorator is just a closure\n",
    "\n",
    "*Only admin get and put food in this store*"
   ]
  },
  {
   "cell_type": "code",
   "execution_count": 94,
   "metadata": {},
   "outputs": [],
   "source": [
    "class Store(object):\n",
    "    \n",
    "    def get_food(self, username):\n",
    "        if username != 'admin':\n",
    "            raise Exception(\"This user is not allowed to get food\")\n",
    "        print('You got it')\n",
    "    \n",
    "    def put_food(self, username):\n",
    "        if username != 'admin':\n",
    "            raise Exception(\"This user is not allowed to put food\")\n",
    "        print('You modify it')"
   ]
  },
  {
   "cell_type": "code",
   "execution_count": 95,
   "metadata": {},
   "outputs": [
    {
     "name": "stdout",
     "output_type": "stream",
     "text": [
      "You got it\n"
     ]
    }
   ],
   "source": [
    "s = Store()\n",
    "s.get_food('admin')"
   ]
  },
  {
   "cell_type": "markdown",
   "metadata": {},
   "source": [
    "#### Try think about it\n",
    "\n",
    "1. Passin a function (`f`) -> return another function (`wrapper`)\n",
    "2. You get another function (`wrapper`)\n",
    "3. When you call `wrapper`, `f` is also called\n",
    "4. Calling `wrapper` complete all functionalities of `f`\n",
    "5. Calling `wrapper` = Calling `f`\n",
    "6. No, calling `wrapper` >= `f`\n"
   ]
  },
  {
   "cell_type": "code",
   "execution_count": 96,
   "metadata": {},
   "outputs": [],
   "source": [
    "def check_is_admin(f):\n",
    "    def wrapper(*args, **kwargs): # -> Everything is an [object]\n",
    "        if kwargs.get('username') != 'admin':\n",
    "            raise ValueError('User Premission denied!')\n",
    "        return f(*args, **kwargs)\n",
    "    return wrapper # -> you return this object"
   ]
  },
  {
   "cell_type": "code",
   "execution_count": 97,
   "metadata": {},
   "outputs": [],
   "source": [
    "class Store(object):\n",
    "    \n",
    "    @check_is_admin\n",
    "    def get_food(self, username):\n",
    "        print('You got it')\n",
    "    \n",
    "    @check_is_admin\n",
    "    def put_food(self, username):\n",
    "        print('You modify it')"
   ]
  },
  {
   "cell_type": "code",
   "execution_count": 98,
   "metadata": {},
   "outputs": [
    {
     "name": "stdout",
     "output_type": "stream",
     "text": [
      "You got it\n"
     ]
    }
   ],
   "source": [
    "s = Store()\n",
    "s.get_food(username = 'admin')"
   ]
  },
  {
   "cell_type": "markdown",
   "metadata": {},
   "source": [
    "#### Tips 1 - equivalent\n",
    "\n",
    "```python\n",
    "@check_is_admin <=====> check_is_admin(get_food)\n",
    "```\n",
    "\n",
    "#### Tips 2 - no brakets/braces\n",
    "\n",
    "`func(*args, **kwargs)` means you call the function\n",
    "```python\n",
    "class Store(object):\n",
    "    \n",
    "    @check_is_admin\n",
    "    def get_food(self, username):\n",
    "```\n",
    "\n",
    "#### Tips 3 - Often used, but not always\n",
    "\n",
    "#### Tips 4 - Closure\n",
    "*f is local to check_is_admin*    \n",
    "*f is nonlocal to wrapper*"
   ]
  },
  {
   "cell_type": "code",
   "execution_count": 99,
   "metadata": {},
   "outputs": [
    {
     "data": {
      "text/plain": [
       "<cell at 0x000001B9D5FF7490: function object at 0x000001B9D6954670>"
      ]
     },
     "execution_count": 99,
     "metadata": {},
     "output_type": "execute_result"
    }
   ],
   "source": [
    "def some_function():\n",
    "    pass\n",
    "\n",
    "check_is_admin(some_function).__closure__[0]"
   ]
  },
  {
   "cell_type": "code",
   "execution_count": 100,
   "metadata": {},
   "outputs": [
    {
     "data": {
      "text/plain": [
       "<cell at 0x000001B9D5FF7A00: function object at 0x000001B9D6954040>"
      ]
     },
     "execution_count": 100,
     "metadata": {},
     "output_type": "execute_result"
    }
   ],
   "source": [
    "@check_is_admin\n",
    "def some_function():\n",
    "    pass\n",
    "\n",
    "some_function.__closure__[0]"
   ]
  },
  {
   "cell_type": "markdown",
   "metadata": {},
   "source": [
    "```python\n",
    "def check_user_is_not(username):\n",
    "    def user_check_decorator(f):\n",
    "        def wrapper(*args, **kwargs):\n",
    "            if kwargs.get('username') == username:\n",
    "                raise Exception(\"This user is not allowed to get food\")\n",
    "            return f(*args, **kwargs)\n",
    "        return wrapper\n",
    "    return user_check_decorator\n",
    "\n",
    "```\n",
    "\n",
    "#### You are <font color='darkred'>**calling**</font> the outer most function `@check_user_is_not()`\n",
    "```python\n",
    "class Store(object):\n",
    "    @check_user_is_not(\"admin\")\n",
    "    @check_user_is_not(\"user123\")\n",
    "    def get_food(self, username, food):\n",
    "        return self.storage.get(food)\n",
    "        \n",
    "```\n",
    "\n",
    "#### You get a decorator function `user_check_decorator`\n",
    "```python\n",
    "def check_user_is_not(username):\n",
    "    def user_check_decorator(f):\n",
    "        ............\n",
    "        ............\n",
    "        ............\n",
    "        ............\n",
    "        ............\n",
    "    return user_check_decorator\n",
    "\n",
    "```\n",
    "\n",
    "#### Pass function f to decorator function, returns `wrapper` function\n",
    "\n",
    "#### Calling wrapper function,the original function `f` is also called\n",
    "```python\n",
    "xxxxxxxxxxxxxxxxxxxxxxxxxxxxxxxxxxxx\n",
    "    xxxxxxxxxxxxxxxxxxxxxx:\n",
    "        def wrapper(*args, **kwargs):\n",
    "            if kwargs.get('username') == username:\n",
    "                raise Exception(\"This user is not allowed to get food\")\n",
    "            return f(*args, **kwargs)\n",
    "        xxxxxxxxxxxxxxxxxxxxxxxxxxx\n",
    "    xxxxxxxxxxxxxxxxxxxxxxxxxxx\n",
    "```\n",
    "\n",
    "\n",
    "```python\n",
    "def 一个生产装饰器的工厂(tell_me_what_to_produce):\n",
    "    def 一个装饰器(我要被装饰):\n",
    "        def 我就是一个增强的原函数(*args, **kwargs):\n",
    "            add power to func\n",
    "            do what func do\n",
    "            return 我要被装饰(*args, **kwargs)\n",
    "        return 我就是一个增强的原函数\n",
    "    return 一个装饰器\n",
    "\n",
    "```"
   ]
  },
  {
   "cell_type": "code",
   "execution_count": 128,
   "metadata": {},
   "outputs": [],
   "source": [
    "def 一个生产装饰器的工厂(tell_me_what_to_produce):\n",
    "    def 一个装饰器(我要被装饰):\n",
    "        def 我就是一个增强的原函数(*args, **kwargs):\n",
    "            print('给 `我要被装饰` 增加一点儿能力')\n",
    "            return 我要被装饰(*args, **kwargs)\n",
    "        return 我就是一个增强的原函数\n",
    "    return 一个装饰器"
   ]
  },
  {
   "cell_type": "code",
   "execution_count": null,
   "metadata": {},
   "outputs": [],
   "source": []
  }
 ],
 "metadata": {
  "kernelspec": {
   "display_name": "Python 3",
   "language": "python",
   "name": "python3"
  },
  "language_info": {
   "codemirror_mode": {
    "name": "ipython",
    "version": 3
   },
   "file_extension": ".py",
   "mimetype": "text/x-python",
   "name": "python",
   "nbconvert_exporter": "python",
   "pygments_lexer": "ipython3",
   "version": "3.8.3"
  }
 },
 "nbformat": 4,
 "nbformat_minor": 4
}
