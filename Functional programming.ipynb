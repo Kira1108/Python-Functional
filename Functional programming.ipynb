{
 "cells": [
  {
   "cell_type": "markdown",
   "metadata": {},
   "source": [
    "### First problem: How to determined the value of a variable in a computer program\n",
    "\n",
    "**Answer: LEGB [local, enclosing, global, builtin]**"
   ]
  },
  {
   "cell_type": "markdown",
   "metadata": {},
   "source": [
    "*Access global variable inside a scope*"
   ]
  },
  {
   "cell_type": "code",
   "execution_count": 2,
   "metadata": {},
   "outputs": [
    {
     "name": "stdout",
     "output_type": "stream",
     "text": [
      "x inside: global\n",
      "x outside: global\n"
     ]
    }
   ],
   "source": [
    "x = \"global\"\n",
    "\n",
    "def foo():\n",
    "    print(\"x inside:\", x)\n",
    "\n",
    "\n",
    "foo()\n",
    "print(\"x outside:\", x)"
   ]
  },
  {
   "cell_type": "markdown",
   "metadata": {},
   "source": [
    "*Modify a global variable inside a scope*"
   ]
  },
  {
   "cell_type": "code",
   "execution_count": 3,
   "metadata": {},
   "outputs": [
    {
     "name": "stdout",
     "output_type": "stream",
     "text": [
      "x inside: global123\n",
      "x outside: global123\n"
     ]
    }
   ],
   "source": [
    "x = \"global\"\n",
    "\n",
    "def foo():\n",
    "    global x  # to be commented\n",
    "    x += '123'\n",
    "    print(\"x inside:\", x)\n",
    "\n",
    "\n",
    "foo()\n",
    "print(\"x outside:\", x)"
   ]
  },
  {
   "cell_type": "markdown",
   "metadata": {},
   "source": [
    "*Use global variable together with local variable*"
   ]
  },
  {
   "cell_type": "code",
   "execution_count": 6,
   "metadata": {},
   "outputs": [
    {
     "name": "stdout",
     "output_type": "stream",
     "text": [
      "global global \n",
      "local\n"
     ]
    }
   ],
   "source": [
    "x = \"global \"\n",
    "\n",
    "def foo():\n",
    "    global x\n",
    "    y = \"local\"\n",
    "    x = x * 2\n",
    "    print(x)\n",
    "    print(y)\n",
    "\n",
    "foo()"
   ]
  },
  {
   "cell_type": "markdown",
   "metadata": {},
   "source": [
    "*Use local vairable outside scope*"
   ]
  },
  {
   "cell_type": "code",
   "execution_count": 4,
   "metadata": {},
   "outputs": [],
   "source": [
    "# def foo():\n",
    "#     y = \"local\"\n",
    "\n",
    "\n",
    "# foo()\n",
    "# print(y)"
   ]
  },
  {
   "cell_type": "markdown",
   "metadata": {},
   "source": [
    "<font color='darkred'>**Warning: Avoid Global Variables**</font>                    \n",
    "Programs with global variables are difficult to maintain and extend because you can no longer view each function as a “black box” that simply receives arguments and returns a result.         \n",
    "\n",
    "When functions modify global variables, it becomes more difficult to understand the effect of function calls. As programs get larger, this difficulty mounts quickly. Instead of using global variables, use function parameter variables and return values to transfer information from one part of a program to another. \n",
    "\n",
    "Global constants, however, are fine. You can place them at the top of a Python source file and access (but not modify) them in any of the functions in the file. Do not use a global declaration to access constants.       "
   ]
  },
  {
   "cell_type": "markdown",
   "metadata": {},
   "source": [
    "*Nested function - nested scope*"
   ]
  },
  {
   "cell_type": "code",
   "execution_count": 7,
   "metadata": {},
   "outputs": [],
   "source": [
    "def foo():\n",
    "    x = 123\n",
    "    def bar():\n",
    "        print(x)\n",
    "    return bar"
   ]
  },
  {
   "cell_type": "code",
   "execution_count": 8,
   "metadata": {},
   "outputs": [
    {
     "name": "stdout",
     "output_type": "stream",
     "text": [
      "123\n"
     ]
    }
   ],
   "source": [
    "f = foo()\n",
    "f()"
   ]
  },
  {
   "cell_type": "markdown",
   "metadata": {},
   "source": [
    "*Memorize nonlocal variable in `.__closure__` when it is* **necessary**"
   ]
  },
  {
   "cell_type": "code",
   "execution_count": 18,
   "metadata": {},
   "outputs": [],
   "source": [
    "def foo():\n",
    "    x = 123\n",
    "    def bar():\n",
    "        nonlocal x\n",
    "        x += 1\n",
    "        print(x)\n",
    "    return bar"
   ]
  },
  {
   "cell_type": "code",
   "execution_count": 19,
   "metadata": {},
   "outputs": [],
   "source": [
    "f = foo()"
   ]
  },
  {
   "cell_type": "code",
   "execution_count": 20,
   "metadata": {},
   "outputs": [
    {
     "name": "stdout",
     "output_type": "stream",
     "text": [
      "124\n"
     ]
    },
    {
     "data": {
      "text/plain": [
       "124"
      ]
     },
     "execution_count": 20,
     "metadata": {},
     "output_type": "execute_result"
    }
   ],
   "source": [
    "f()\n",
    "f.__closure__[0].cell_contents"
   ]
  },
  {
   "cell_type": "markdown",
   "metadata": {},
   "source": [
    "*Incase nonlocal variable is not nessary for closure function*"
   ]
  },
  {
   "cell_type": "code",
   "execution_count": 22,
   "metadata": {},
   "outputs": [],
   "source": [
    "def foo():\n",
    "    x = 123\n",
    "    def bar():\n",
    "        print(555)    # you don't have to memroize x inside bar function\n",
    "    return bar"
   ]
  },
  {
   "cell_type": "code",
   "execution_count": 23,
   "metadata": {},
   "outputs": [
    {
     "name": "stdout",
     "output_type": "stream",
     "text": [
      "555\n"
     ]
    },
    {
     "data": {
      "text/plain": [
       "True"
      ]
     },
     "execution_count": 23,
     "metadata": {},
     "output_type": "execute_result"
    }
   ],
   "source": [
    "f = foo()\n",
    "f()\n",
    "f.__closure__ is None"
   ]
  },
  {
   "cell_type": "markdown",
   "metadata": {},
   "source": [
    "### Nested function & Nested scope"
   ]
  },
  {
   "cell_type": "code",
   "execution_count": 12,
   "metadata": {},
   "outputs": [],
   "source": [
    "def outer(a):\n",
    "    b = a                             # b is local variable for outer, a is also a local variable for outer\n",
    "    def inner():\n",
    "        c = 3                         # c is local variable of inner, b is non-local variable for inner\n",
    "        def inner_inner(b):           # new local variable b is defined, b is local for inner_inner, but is not the one defined in outer\n",
    "            r = b+c                   # r is local variable for inner_inner, c is non-local variable for inner_inner\n",
    "            return b+c\n",
    "        return inner_inner\n",
    "    return inner\n",
    "foo = outer(10)\n",
    "bar = foo()"
   ]
  },
  {
   "cell_type": "code",
   "execution_count": 13,
   "metadata": {},
   "outputs": [
    {
     "data": {
      "text/plain": [
       "(True, 3)"
      ]
     },
     "execution_count": 13,
     "metadata": {},
     "output_type": "execute_result"
    }
   ],
   "source": [
    "foo.__closure__ is None, bar.__closure__[0].cell_contents"
   ]
  },
  {
   "cell_type": "markdown",
   "metadata": {},
   "source": [
    "*Use variable `a` inside `inner`*"
   ]
  },
  {
   "cell_type": "code",
   "execution_count": 14,
   "metadata": {},
   "outputs": [],
   "source": [
    "def outer(a):\n",
    "    b = a                            \n",
    "    def inner():\n",
    "        c = 3 \n",
    "        def inner_inner(b):\n",
    "            r = b+ c + a # use a \n",
    "            return b+c\n",
    "        return inner_inner\n",
    "    return inner\n",
    "foo = outer(10)\n",
    "bar = foo()"
   ]
  },
  {
   "cell_type": "code",
   "execution_count": 15,
   "metadata": {},
   "outputs": [
    {
     "data": {
      "text/plain": [
       "(False, 10)"
      ]
     },
     "execution_count": 15,
     "metadata": {},
     "output_type": "execute_result"
    }
   ],
   "source": [
    "foo.__closure__ is None, bar.__closure__[0].cell_contents"
   ]
  },
  {
   "cell_type": "code",
   "execution_count": 16,
   "metadata": {},
   "outputs": [
    {
     "data": {
      "text/plain": [
       "7"
      ]
     },
     "execution_count": 16,
     "metadata": {},
     "output_type": "execute_result"
    }
   ],
   "source": [
    "bar(4)"
   ]
  },
  {
   "cell_type": "markdown",
   "metadata": {},
   "source": [
    "*Modify `a` in `inner_inner`*"
   ]
  },
  {
   "cell_type": "code",
   "execution_count": 17,
   "metadata": {},
   "outputs": [],
   "source": [
    "def outer(a):\n",
    "    b = a                            \n",
    "    def inner():\n",
    "        c = 3 \n",
    "        def inner_inner(b):\n",
    "            a += 1\n",
    "            r = b+ c + a # use a \n",
    "            return b+c\n",
    "        return inner_inner\n",
    "    return inner\n",
    "foo = outer(10)\n",
    "bar = foo()"
   ]
  },
  {
   "cell_type": "code",
   "execution_count": 18,
   "metadata": {},
   "outputs": [
    {
     "data": {
      "text/plain": [
       "(True, 3)"
      ]
     },
     "execution_count": 18,
     "metadata": {},
     "output_type": "execute_result"
    }
   ],
   "source": [
    "foo.__closure__ is None, bar.__closure__[0].cell_contents"
   ]
  },
  {
   "cell_type": "code",
   "execution_count": 19,
   "metadata": {},
   "outputs": [],
   "source": [
    "# bar(4)"
   ]
  },
  {
   "cell_type": "markdown",
   "metadata": {},
   "source": [
    "*Although `a` is in outer scope of outer scope of `inner_inner`, it is found in nonlocal space, `__closure__` attribute*"
   ]
  },
  {
   "cell_type": "code",
   "execution_count": 20,
   "metadata": {},
   "outputs": [],
   "source": [
    "def outer(a):\n",
    "    b = a                            \n",
    "    def inner():\n",
    "        c = 3 \n",
    "        def inner_inner(b):\n",
    "            nonlocal a\n",
    "            a += 1\n",
    "            r = b + c + a # use a \n",
    "            return b+c\n",
    "        return inner_inner\n",
    "    return inner\n",
    "foo = outer(10)\n",
    "bar = foo()"
   ]
  },
  {
   "cell_type": "code",
   "execution_count": 21,
   "metadata": {},
   "outputs": [
    {
     "data": {
      "text/plain": [
       "(False, 10)"
      ]
     },
     "execution_count": 21,
     "metadata": {},
     "output_type": "execute_result"
    }
   ],
   "source": [
    "foo.__closure__ is None, bar.__closure__[0].cell_contents"
   ]
  },
  {
   "cell_type": "code",
   "execution_count": 22,
   "metadata": {},
   "outputs": [
    {
     "data": {
      "text/plain": [
       "7"
      ]
     },
     "execution_count": 22,
     "metadata": {},
     "output_type": "execute_result"
    }
   ],
   "source": [
    "bar(4)"
   ]
  },
  {
   "cell_type": "markdown",
   "metadata": {},
   "source": [
    "### Modify nonlocal variable"
   ]
  },
  {
   "cell_type": "markdown",
   "metadata": {},
   "source": [
    "*Functions are objects, objects have attributes and methods*"
   ]
  },
  {
   "cell_type": "code",
   "execution_count": 23,
   "metadata": {},
   "outputs": [
    {
     "name": "stdout",
     "output_type": "stream",
     "text": [
      "cameldata666\n",
      "334\n"
     ]
    }
   ],
   "source": [
    "def abc():\n",
    "    pass\n",
    "\n",
    "setattr(abc,'haha', 'cameldata666')\n",
    "setattr(abc,'haha_func', lambda x:print(x+1))\n",
    "\n",
    "print(abc.haha)\n",
    "abc.haha_func(333)"
   ]
  },
  {
   "cell_type": "code",
   "execution_count": 24,
   "metadata": {},
   "outputs": [],
   "source": [
    "def sample():\n",
    "    n = 0\n",
    "    \n",
    "    # Closure function\n",
    "    def func():\n",
    "        print('n=', n)\n",
    "        \n",
    "    # Accessor methods for n\n",
    "    def get_n():\n",
    "        return n\n",
    "    def set_n(value):\n",
    "        nonlocal n\n",
    "        n = value\n",
    "        \n",
    "    # Attach as function attributes\n",
    "    setattr(func, 'get_n', get_n)\n",
    "    setattr(func,'set_n', set_n)\n",
    "\n",
    "    return func"
   ]
  },
  {
   "cell_type": "markdown",
   "metadata": {},
   "source": [
    "*`n` is defined in factory function `sample`*"
   ]
  },
  {
   "cell_type": "code",
   "execution_count": 25,
   "metadata": {},
   "outputs": [],
   "source": [
    "sample_func = sample()"
   ]
  },
  {
   "cell_type": "code",
   "execution_count": 26,
   "metadata": {},
   "outputs": [
    {
     "name": "stdout",
     "output_type": "stream",
     "text": [
      "n= 0\n"
     ]
    }
   ],
   "source": [
    "sample_func()"
   ]
  },
  {
   "cell_type": "markdown",
   "metadata": {},
   "source": [
    "*Nonlocal variblae `n` modified in `set_n` function*"
   ]
  },
  {
   "cell_type": "code",
   "execution_count": 27,
   "metadata": {},
   "outputs": [],
   "source": [
    "sample_func.set_n(10)"
   ]
  },
  {
   "cell_type": "code",
   "execution_count": 28,
   "metadata": {},
   "outputs": [
    {
     "name": "stdout",
     "output_type": "stream",
     "text": [
      "n= 10\n"
     ]
    }
   ],
   "source": [
    "sample_func()"
   ]
  },
  {
   "cell_type": "markdown",
   "metadata": {},
   "source": [
    "State: game              \n",
    "Function: with_user_type            \n",
    "\n",
    "我必须知道你用with_user_type 得state，才能决定你怎么用with_user_type函数                \n",
    "如果你非要用。。。with_user_type...且被装饰得函数使用得状态还是一直变，那你不如写循环啊    \n",
    "或者啊，被装饰得函数，要有修改nonlocal variable  - `game`的能力"
   ]
  },
  {
   "cell_type": "markdown",
   "metadata": {},
   "source": [
    "### Return function, why:\n",
    "1. Outter function is like a factory, manufacuring functions base on some conditions\n",
    "2. Inner functions is a specific function to be used directly in business\n",
    "**The logic of inner function frequently changes overtime, you need to modify code frequently**"
   ]
  },
  {
   "cell_type": "markdown",
   "metadata": {},
   "source": [
    "**Return / manufacture functions**"
   ]
  },
  {
   "cell_type": "code",
   "execution_count": 29,
   "metadata": {},
   "outputs": [],
   "source": [
    "# plura exmaple"
   ]
  },
  {
   "cell_type": "markdown",
   "metadata": {},
   "source": [
    "### A decorator is just a closure\n",
    "\n",
    "*Only admin get and put food in this store*"
   ]
  },
  {
   "cell_type": "code",
   "execution_count": 30,
   "metadata": {},
   "outputs": [],
   "source": [
    "class Store(object):\n",
    "    \n",
    "    def get_food(self, username):\n",
    "        if username != 'admin':\n",
    "            raise Exception(\"This user is not allowed to get food\")\n",
    "        print('You got it')\n",
    "    \n",
    "    def put_food(self, username):\n",
    "        if username != 'admin':\n",
    "            raise Exception(\"This user is not allowed to put food\")\n",
    "        print('You modify it')"
   ]
  },
  {
   "cell_type": "code",
   "execution_count": 31,
   "metadata": {},
   "outputs": [
    {
     "name": "stdout",
     "output_type": "stream",
     "text": [
      "You got it\n"
     ]
    }
   ],
   "source": [
    "s = Store()\n",
    "s.get_food('admin')"
   ]
  },
  {
   "cell_type": "markdown",
   "metadata": {},
   "source": [
    "#### Try think about it\n",
    "\n",
    "1. Passin a function (`f`) -> return another function (`wrapper`)\n",
    "2. You get another function (`wrapper`)\n",
    "3. When you call `wrapper`, `f` is also called\n",
    "4. Calling `wrapper` complete all functionalities of `f`\n",
    "5. Calling `wrapper` = Calling `f`\n",
    "6. No, calling `wrapper` >= `f`\n"
   ]
  },
  {
   "cell_type": "code",
   "execution_count": 32,
   "metadata": {},
   "outputs": [],
   "source": [
    "def check_is_admin(f):\n",
    "    def wrapper(*args, **kwargs): # -> Everything is an [object]\n",
    "        if kwargs.get('username') != 'admin':\n",
    "            raise ValueError('User Premission denied!')\n",
    "        return f(*args, **kwargs)\n",
    "    return wrapper # -> you return this object"
   ]
  },
  {
   "cell_type": "code",
   "execution_count": 33,
   "metadata": {},
   "outputs": [],
   "source": [
    "class Store(object):\n",
    "    \n",
    "    @check_is_admin\n",
    "    def get_food(self, username):\n",
    "        print('You got it')\n",
    "    \n",
    "    @check_is_admin\n",
    "    def put_food(self, username):\n",
    "        print('You modify it')"
   ]
  },
  {
   "cell_type": "code",
   "execution_count": 34,
   "metadata": {},
   "outputs": [
    {
     "name": "stdout",
     "output_type": "stream",
     "text": [
      "You got it\n"
     ]
    }
   ],
   "source": [
    "s = Store()\n",
    "s.get_food(username = 'admin')"
   ]
  },
  {
   "cell_type": "markdown",
   "metadata": {},
   "source": [
    "#### Tips 1 - equivalent\n",
    "\n",
    "```python\n",
    "@check_is_admin <=====> check_is_admin(get_food)\n",
    "```\n",
    "\n",
    "#### Tips 2 - no brakets/braces\n",
    "\n",
    "`func(*args, **kwargs)` means you call the function\n",
    "```python\n",
    "class Store(object):\n",
    "    \n",
    "    @check_is_admin\n",
    "    def get_food(self, username):\n",
    "```\n",
    "\n",
    "#### Tips 3 - Often used, but not always\n",
    "\n",
    "#### Tips 4 - Closure\n",
    "*f is local to check_is_admin*    \n",
    "*f is nonlocal to wrapper*"
   ]
  },
  {
   "cell_type": "code",
   "execution_count": 35,
   "metadata": {},
   "outputs": [
    {
     "data": {
      "text/plain": [
       "<cell at 0x0000017D02421850: function object at 0x0000017D024474C0>"
      ]
     },
     "execution_count": 35,
     "metadata": {},
     "output_type": "execute_result"
    }
   ],
   "source": [
    "def some_function():\n",
    "    pass\n",
    "\n",
    "check_is_admin(some_function).__closure__[0]"
   ]
  },
  {
   "cell_type": "code",
   "execution_count": 36,
   "metadata": {},
   "outputs": [
    {
     "data": {
      "text/plain": [
       "<cell at 0x0000017D02421490: function object at 0x0000017D024471F0>"
      ]
     },
     "execution_count": 36,
     "metadata": {},
     "output_type": "execute_result"
    }
   ],
   "source": [
    "@check_is_admin\n",
    "def some_function():\n",
    "    pass\n",
    "\n",
    "some_function.__closure__[0]"
   ]
  },
  {
   "cell_type": "markdown",
   "metadata": {},
   "source": [
    "```python\n",
    "def check_user_is_not(username):\n",
    "    def user_check_decorator(f):\n",
    "        def wrapper(*args, **kwargs):\n",
    "            if kwargs.get('username') == username:\n",
    "                raise Exception(\"This user is not allowed to get food\")\n",
    "            return f(*args, **kwargs)\n",
    "        return wrapper\n",
    "    return user_check_decorator\n",
    "\n",
    "```\n",
    "\n",
    "#### You are <font color='darkred'>**calling**</font> the outer most function `@check_user_is_not()`\n",
    "```python\n",
    "class Store(object):\n",
    "    @check_user_is_not(\"admin\")\n",
    "    @check_user_is_not(\"user123\")\n",
    "    def get_food(self, username, food):\n",
    "        return self.storage.get(food)\n",
    "        \n",
    "```\n",
    "\n",
    "#### You get a decorator function `user_check_decorator`\n",
    "```python\n",
    "def check_user_is_not(username):\n",
    "    def user_check_decorator(f):\n",
    "        ............\n",
    "        ............\n",
    "        ............\n",
    "        ............\n",
    "        ............\n",
    "    return user_check_decorator\n",
    "\n",
    "```\n",
    "\n",
    "#### Pass function f to decorator function, returns `wrapper` function\n",
    "\n",
    "#### Calling wrapper function,the original function `f` is also called\n",
    "```python\n",
    "xxxxxxxxxxxxxxxxxxxxxxxxxxxxxxxxxxxx\n",
    "    xxxxxxxxxxxxxxxxxxxxxx:\n",
    "        def wrapper(*args, **kwargs):\n",
    "            if kwargs.get('username') == username:\n",
    "                raise Exception(\"This user is not allowed to get food\")\n",
    "            return f(*args, **kwargs)\n",
    "        xxxxxxxxxxxxxxxxxxxxxxxxxxx\n",
    "    xxxxxxxxxxxxxxxxxxxxxxxxxxx\n",
    "```"
   ]
  },
  {
   "cell_type": "markdown",
   "metadata": {},
   "source": [
    "#### Template"
   ]
  },
  {
   "cell_type": "code",
   "execution_count": 106,
   "metadata": {},
   "outputs": [],
   "source": [
    "def 一个生产装饰器的工厂(告诉我怎么生产):\n",
    "    def 一个装饰器(我要被装饰):\n",
    "        \n",
    "        def 我就是一个增强的原函数(*args, **kwargs):\n",
    "            \n",
    "            print(告诉我怎么生产)\n",
    "            print('给 `我要被装饰` 增加一点儿能力')\n",
    "            return 我要被装饰(*args, **kwargs)\n",
    "        \n",
    "        # 你真的需要它么？？？？？？？？？\n",
    "        def 改变生产方式(新的生产方式):\n",
    "            nonlocal 告诉我怎么生产\n",
    "            告诉我怎么生产 = 新的生产方式\n",
    "\n",
    "        setattr(我就是一个增强的原函数, '改变生产方式', 改变生产方式)\n",
    "        \n",
    "        return 我就是一个增强的原函数\n",
    "    return 一个装饰器"
   ]
  },
  {
   "cell_type": "markdown",
   "metadata": {},
   "source": [
    "**1. 工厂生产装饰器**"
   ]
  },
  {
   "cell_type": "code",
   "execution_count": 107,
   "metadata": {},
   "outputs": [
    {
     "data": {
      "text/plain": [
       "<function __main__.一个生产装饰器的工厂.<locals>.一个装饰器(我要被装饰)>"
      ]
     },
     "execution_count": 107,
     "metadata": {},
     "output_type": "execute_result"
    }
   ],
   "source": [
    "一个生产装饰器的工厂('你就随便生产吧')"
   ]
  },
  {
   "cell_type": "code",
   "execution_count": 108,
   "metadata": {},
   "outputs": [
    {
     "data": {
      "text/plain": [
       "'一个装饰器'"
      ]
     },
     "execution_count": 108,
     "metadata": {},
     "output_type": "execute_result"
    }
   ],
   "source": [
    "一个生产装饰器的工厂('你就随便生产吧').__name__"
   ]
  },
  {
   "cell_type": "code",
   "execution_count": 109,
   "metadata": {},
   "outputs": [],
   "source": [
    "def somefunc():\n",
    "    print('I am somefunc')"
   ]
  },
  {
   "cell_type": "markdown",
   "metadata": {},
   "source": [
    "**2. 把函数交给装饰器**"
   ]
  },
  {
   "cell_type": "code",
   "execution_count": 110,
   "metadata": {},
   "outputs": [
    {
     "data": {
      "text/plain": [
       "<function __main__.一个生产装饰器的工厂.<locals>.一个装饰器.<locals>.我就是一个增强的原函数(*args, **kwargs)>"
      ]
     },
     "execution_count": 110,
     "metadata": {},
     "output_type": "execute_result"
    }
   ],
   "source": [
    "一个生产装饰器的工厂('你就随便生产吧')(somefunc)"
   ]
  },
  {
   "cell_type": "code",
   "execution_count": 111,
   "metadata": {},
   "outputs": [
    {
     "data": {
      "text/plain": [
       "'我就是一个增强的原函数'"
      ]
     },
     "execution_count": 111,
     "metadata": {},
     "output_type": "execute_result"
    }
   ],
   "source": [
    "一个生产装饰器的工厂('你就随便生产吧')(somefunc).__name__"
   ]
  },
  {
   "cell_type": "markdown",
   "metadata": {},
   "source": [
    "**3. 调用装饰好的函数**"
   ]
  },
  {
   "cell_type": "code",
   "execution_count": 112,
   "metadata": {},
   "outputs": [
    {
     "name": "stdout",
     "output_type": "stream",
     "text": [
      "你就随便生产吧\n",
      "给 `我要被装饰` 增加一点儿能力\n",
      "I am somefunc\n"
     ]
    }
   ],
   "source": [
    "一个生产装饰器的工厂('你就随便生产吧')(somefunc)()"
   ]
  },
  {
   "cell_type": "code",
   "execution_count": 113,
   "metadata": {},
   "outputs": [],
   "source": [
    "newfunc = 一个生产装饰器的工厂('你就随便生产吧')(somefunc)"
   ]
  },
  {
   "cell_type": "code",
   "execution_count": 114,
   "metadata": {},
   "outputs": [
    {
     "name": "stdout",
     "output_type": "stream",
     "text": [
      "你就随便生产吧\n",
      "给 `我要被装饰` 增加一点儿能力\n",
      "I am somefunc\n"
     ]
    }
   ],
   "source": [
    "newfunc()"
   ]
  },
  {
   "cell_type": "markdown",
   "metadata": {},
   "source": [
    "**4. 更改生产方式**"
   ]
  },
  {
   "cell_type": "code",
   "execution_count": 115,
   "metadata": {},
   "outputs": [],
   "source": [
    "newfunc.改变生产方式('给我好好生产')"
   ]
  },
  {
   "cell_type": "code",
   "execution_count": 116,
   "metadata": {},
   "outputs": [
    {
     "name": "stdout",
     "output_type": "stream",
     "text": [
      "给我好好生产\n",
      "给 `我要被装饰` 增加一点儿能力\n",
      "I am somefunc\n"
     ]
    }
   ],
   "source": [
    "newfunc()"
   ]
  },
  {
   "cell_type": "markdown",
   "metadata": {},
   "source": [
    "**@装饰器**(没有括号)     \n",
    "**@工厂()**(有括号) "
   ]
  },
  {
   "cell_type": "code",
   "execution_count": 117,
   "metadata": {},
   "outputs": [],
   "source": [
    "@一个生产装饰器的工厂('我有一个特别特殊的需求')\n",
    "def somefunc():\n",
    "    print('I am somefunc')"
   ]
  },
  {
   "cell_type": "code",
   "execution_count": 118,
   "metadata": {},
   "outputs": [
    {
     "name": "stdout",
     "output_type": "stream",
     "text": [
      "我有一个特别特殊的需求\n",
      "给 `我要被装饰` 增加一点儿能力\n",
      "I am somefunc\n"
     ]
    }
   ],
   "source": [
    "somefunc()"
   ]
  },
  {
   "cell_type": "markdown",
   "metadata": {},
   "source": [
    "### **But Why?**"
   ]
  },
  {
   "cell_type": "markdown",
   "metadata": {},
   "source": [
    "**那么问题来了，既然这么复杂，干嘛还写装饰器啊，头顶上那个东西，根本说明不了这个函数的作用，你还要改它**              \n",
    "**那你让别人怎么debug， 还要看代码，还要知道你更改过后，这个函数的调用状态**     \n",
    "**为了你一时爽， 就让别人看不懂代码么？？？？？？**"
   ]
  },
  {
   "cell_type": "markdown",
   "metadata": {},
   "source": [
    "<font color='darkred'>**Warning: Avoid Global [modify nonlocal] Variables**</font>                    \n",
    "Programs with global variables are difficult to maintain and extend because <font color='darkred'>**you can no longer view each function as a “black box” that simply receives arguments and returns a result.**</font>        \n",
    "\n",
    "When functions modify global variables, it becomes more <font color='drakred'>**difficult to understand the effect of function calls**</font>. As programs get larger, this difficulty mounts quickly. Instead of using global variables, use function parameter variables and return values to transfer information from one part of a program to another. \n",
    "\n",
    "Global constants, however, are fine. You can place them at the top of a Python source file and access (but not modify) them in any of the functions in the file. Do not use a global declaration to access constants.       "
   ]
  },
  {
   "cell_type": "markdown",
   "metadata": {},
   "source": [
    "### Cases"
   ]
  },
  {
   "cell_type": "code",
   "execution_count": 12,
   "metadata": {},
   "outputs": [],
   "source": [
    "import pandas as pd\n",
    "import logging\n",
    "import numpy as np\n",
    "logging.basicConfig(level= logging.INFO)\n",
    "\n",
    "def check_null_df(f):\n",
    "    def wrapper(*args, **kwargs):\n",
    "        df = f(*args, **kwargs)\n",
    "        if df is None or len(df) == 0:\n",
    "            logging.info(f\"No rows returned by function {f.__name__}\")\n",
    "            position_str = ','.join(str(s) for s in args)\n",
    "            keyword_str = ','.join([f'{str(k)}={str(v)}' for k,v in kwargs.items()])\n",
    "            logging.info(f\"{f.__name__}({position_str}, {keyword_str})\")\n",
    "        return df\n",
    "    return wrapper"
   ]
  },
  {
   "cell_type": "code",
   "execution_count": 123,
   "metadata": {},
   "outputs": [],
   "source": [
    "import logging"
   ]
  },
  {
   "cell_type": "code",
   "execution_count": 125,
   "metadata": {},
   "outputs": [
    {
     "name": "stderr",
     "output_type": "stream",
     "text": [
      "INFO:root:No rows returned by function return_empty\n",
      "INFO:root:return_empty(2, name=wanghuan,tt=888)\n"
     ]
    },
    {
     "data": {
      "text/html": [
       "<div>\n",
       "<style scoped>\n",
       "    .dataframe tbody tr th:only-of-type {\n",
       "        vertical-align: middle;\n",
       "    }\n",
       "\n",
       "    .dataframe tbody tr th {\n",
       "        vertical-align: top;\n",
       "    }\n",
       "\n",
       "    .dataframe thead th {\n",
       "        text-align: right;\n",
       "    }\n",
       "</style>\n",
       "<table border=\"1\" class=\"dataframe\">\n",
       "  <thead>\n",
       "    <tr style=\"text-align: right;\">\n",
       "      <th></th>\n",
       "      <th>0</th>\n",
       "      <th>1</th>\n",
       "      <th>2</th>\n",
       "      <th>3</th>\n",
       "    </tr>\n",
       "  </thead>\n",
       "  <tbody>\n",
       "    <tr>\n",
       "      <th>0</th>\n",
       "      <td>0.846974</td>\n",
       "      <td>0.113276</td>\n",
       "      <td>0.744018</td>\n",
       "      <td>0.504474</td>\n",
       "    </tr>\n",
       "    <tr>\n",
       "      <th>1</th>\n",
       "      <td>0.853213</td>\n",
       "      <td>0.803645</td>\n",
       "      <td>0.993572</td>\n",
       "      <td>0.290022</td>\n",
       "    </tr>\n",
       "    <tr>\n",
       "      <th>2</th>\n",
       "      <td>0.764608</td>\n",
       "      <td>0.827111</td>\n",
       "      <td>0.482522</td>\n",
       "      <td>0.331674</td>\n",
       "    </tr>\n",
       "  </tbody>\n",
       "</table>\n",
       "</div>"
      ],
      "text/plain": [
       "          0         1         2         3\n",
       "0  0.846974  0.113276  0.744018  0.504474\n",
       "1  0.853213  0.803645  0.993572  0.290022\n",
       "2  0.764608  0.827111  0.482522  0.331674"
      ]
     },
     "execution_count": 125,
     "metadata": {},
     "output_type": "execute_result"
    }
   ],
   "source": [
    "@check_null_df\n",
    "def return_empty(id, name,tt):\n",
    "    return pd.DataFrame()\n",
    "\n",
    "return_empty(2, name = 'wanghuan',tt = 888)\n",
    "\n",
    "@check_null_df\n",
    "def not_empty(id, name,tt):\n",
    "    return pd.DataFrame(np.random.random((3,4)))\n",
    "\n",
    "not_empty(id = 1,name = 'wanghuan',tt = 22)"
   ]
  },
  {
   "cell_type": "code",
   "execution_count": 145,
   "metadata": {},
   "outputs": [],
   "source": [
    "from functools import wraps"
   ]
  },
  {
   "cell_type": "code",
   "execution_count": 156,
   "metadata": {},
   "outputs": [],
   "source": [
    "def check_missing_df(f):\n",
    "    @wraps(f)\n",
    "    def wrapper(*args, **kwargs):\n",
    "        df = f(*args, **kwargs)\n",
    "        if df.isnull().sum().sum() > 0:\n",
    "            position_str = ','.join(str(s) for s in args)\n",
    "            keyword_str = ','.join([f'{str(k)}={str(v)}' for k,v in kwargs.items()])\n",
    "            logging.info('Dataframe returned contain missing values')\n",
    "            logging.info(f\"With missing call -- {f.__name__}({position_str}, {keyword_str})\")\n",
    "        return df\n",
    "    return wrapper"
   ]
  },
  {
   "cell_type": "code",
   "execution_count": 157,
   "metadata": {},
   "outputs": [],
   "source": [
    "@check_null_df\n",
    "@check_missing_df\n",
    "def df_with_missing(uid, server):\n",
    "    '''I have some documentation here'''\n",
    "    return pd.DataFrame([[np.nan,1],[2,3]])"
   ]
  },
  {
   "cell_type": "code",
   "execution_count": 158,
   "metadata": {},
   "outputs": [
    {
     "name": "stderr",
     "output_type": "stream",
     "text": [
      "INFO:root:Dataframe returned contain missing values\n",
      "INFO:root:With missing call -- df_with_missing(3, server=123)\n"
     ]
    },
    {
     "data": {
      "text/html": [
       "<div>\n",
       "<style scoped>\n",
       "    .dataframe tbody tr th:only-of-type {\n",
       "        vertical-align: middle;\n",
       "    }\n",
       "\n",
       "    .dataframe tbody tr th {\n",
       "        vertical-align: top;\n",
       "    }\n",
       "\n",
       "    .dataframe thead th {\n",
       "        text-align: right;\n",
       "    }\n",
       "</style>\n",
       "<table border=\"1\" class=\"dataframe\">\n",
       "  <thead>\n",
       "    <tr style=\"text-align: right;\">\n",
       "      <th></th>\n",
       "      <th>0</th>\n",
       "      <th>1</th>\n",
       "    </tr>\n",
       "  </thead>\n",
       "  <tbody>\n",
       "    <tr>\n",
       "      <th>0</th>\n",
       "      <td>NaN</td>\n",
       "      <td>1</td>\n",
       "    </tr>\n",
       "    <tr>\n",
       "      <th>1</th>\n",
       "      <td>2.0</td>\n",
       "      <td>3</td>\n",
       "    </tr>\n",
       "  </tbody>\n",
       "</table>\n",
       "</div>"
      ],
      "text/plain": [
       "     0  1\n",
       "0  NaN  1\n",
       "1  2.0  3"
      ]
     },
     "execution_count": 158,
     "metadata": {},
     "output_type": "execute_result"
    }
   ],
   "source": [
    "df_with_missing(3, server = 123)"
   ]
  },
  {
   "cell_type": "code",
   "execution_count": 165,
   "metadata": {},
   "outputs": [
    {
     "name": "stdout",
     "output_type": "stream",
     "text": [
      "[9 5 6 7 8]\n"
     ]
    }
   ],
   "source": [
    "def add_day_id(df, group_col = 'from_server', date_col = 'date', id_offset = 0, day_id_name = 'day_id'):\n",
    "    result = []\n",
    "    unique_servers = sorted(df[group_col].unique())\n",
    "\n",
    "    for server_id in unique_servers:\n",
    "        unique_dates = sorted(df[df.from_server == server_id ][date_col].unique())\n",
    "        result += [[date, i + id_offset + 1, server_id ] for i, date in enumerate(unique_dates)]\n",
    "\n",
    "    result = pd.DataFrame(result, columns = [date_col,day_id_name,group_col])\n",
    "    return df.merge(result, on = [date_col, group_col], how = 'inner')\n",
    "\n",
    "\n",
    "def with_day_id(*oargs, **okwargs):\n",
    "    '''\n",
    "        Allow parameters:\n",
    "        group_col: like server_id, from_server\n",
    "        date_col: YYYY-MM-DD like\n",
    "        id_offset: day_id startswith\n",
    "        day_id_name: rename day_id column\n",
    "    '''\n",
    "    def decorator(f):\n",
    "        @wraps(f)\n",
    "        def wrapper(*args, **kwargs):\n",
    "            df = f(*args, **kwargs)\n",
    "            return add_day_id(df,*oargs,**okwargs)\n",
    "        return wrapper\n",
    "    return decorator\n",
    "\n",
    "@with_day_id(id_offset = 4)\n",
    "def get_df():\n",
    "    from datetime import datetime\n",
    "    from_server = np.random.choice([1,2,3], size = 100)\n",
    "    dates = [datetime(2020,5,np.random.choice(np.arange(1,6))).date() for i in range(100)]\n",
    "    df = pd.DataFrame(zip(from_server, dates), columns = ['from_server','date'])\n",
    "    return df\n",
    "\n",
    "\n",
    "print(get_df().day_id.unique())"
   ]
  },
  {
   "cell_type": "code",
   "execution_count": 15,
   "metadata": {},
   "outputs": [],
   "source": [
    "from functools import wraps\n",
    "import functools\n",
    "import inspect\n",
    "def check_is_admin(f):\n",
    "    @functools.wraps(f)\n",
    "    def wrapper(*args, **kwargs):\n",
    "        func_args = inspect.getcallargs(f, *args, **kwargs)\n",
    "        print(func_args)\n",
    "        if func_args.get('username') != 'admin':\n",
    "            raise Exception(\"This user is not allowed to get food\")\n",
    "        return f(*args, **kwargs)\n",
    "    return wrapper"
   ]
  },
  {
   "cell_type": "code",
   "execution_count": 16,
   "metadata": {},
   "outputs": [],
   "source": [
    "@check_is_admin\n",
    "def somefunc(a,b,c, username = 'admin'):\n",
    "    print('haha')"
   ]
  },
  {
   "cell_type": "code",
   "execution_count": 17,
   "metadata": {},
   "outputs": [
    {
     "name": "stdout",
     "output_type": "stream",
     "text": [
      "{'a': 1, 'b': 2, 'c': 3, 'username': 'admin'}\n",
      "haha\n"
     ]
    }
   ],
   "source": [
    "somefunc(1,2,3)"
   ]
  },
  {
   "cell_type": "code",
   "execution_count": 23,
   "metadata": {},
   "outputs": [],
   "source": [
    "def check_missing_df(f):\n",
    "    @wraps(f)\n",
    "    def wrapper(*args, **kwargs):\n",
    "        func_args = inspect.getcallargs(f, *args, **kwargs)\n",
    "        df = f(*args, **kwargs)\n",
    "        if df.isnull().sum().sum() > 0:\n",
    "            logging.info('Dataframe returned contain missing values')\n",
    "            parameters = \",\".join([f'{k} = {v}'for k,v in func_args.items()])\n",
    "            logging.info(f\"{f.__name__}({parameters})\")\n",
    "        return df\n",
    "    return wrapper\n",
    "\n",
    "@check_missing_df\n",
    "def df_with_missing(uid, server):\n",
    "    '''I have some documentation here'''\n",
    "    return pd.DataFrame([[np.nan,1],[2,3]])"
   ]
  },
  {
   "cell_type": "code",
   "execution_count": 24,
   "metadata": {},
   "outputs": [
    {
     "name": "stderr",
     "output_type": "stream",
     "text": [
      "INFO:root:Dataframe returned contain missing values\n",
      "INFO:root:df_with_missing(uid = 123,server = 123)\n"
     ]
    },
    {
     "data": {
      "text/html": [
       "<div>\n",
       "<style scoped>\n",
       "    .dataframe tbody tr th:only-of-type {\n",
       "        vertical-align: middle;\n",
       "    }\n",
       "\n",
       "    .dataframe tbody tr th {\n",
       "        vertical-align: top;\n",
       "    }\n",
       "\n",
       "    .dataframe thead th {\n",
       "        text-align: right;\n",
       "    }\n",
       "</style>\n",
       "<table border=\"1\" class=\"dataframe\">\n",
       "  <thead>\n",
       "    <tr style=\"text-align: right;\">\n",
       "      <th></th>\n",
       "      <th>0</th>\n",
       "      <th>1</th>\n",
       "    </tr>\n",
       "  </thead>\n",
       "  <tbody>\n",
       "    <tr>\n",
       "      <th>0</th>\n",
       "      <td>NaN</td>\n",
       "      <td>1</td>\n",
       "    </tr>\n",
       "    <tr>\n",
       "      <th>1</th>\n",
       "      <td>2.0</td>\n",
       "      <td>3</td>\n",
       "    </tr>\n",
       "  </tbody>\n",
       "</table>\n",
       "</div>"
      ],
      "text/plain": [
       "     0  1\n",
       "0  NaN  1\n",
       "1  2.0  3"
      ]
     },
     "execution_count": 24,
     "metadata": {},
     "output_type": "execute_result"
    }
   ],
   "source": [
    "df_with_missing(123,123)"
   ]
  },
  {
   "cell_type": "markdown",
   "metadata": {},
   "source": [
    "# 工具类\n",
    "\n",
    "1. 所有的项目依赖Dbtools， Dbtools的功能基本没啥大变化了，稳定下来了，单独写成了一个工具类             \n",
    "2. 抽取出来一些功能性的东西，比如utils， 这些和数据源基本没有什么大关系的东西，单独写成一个工具类 \n",
    "3. queries可能以后要被复用的，单独写成一个queries，就是原来query_XXXX的那些东西\n",
    "4. 大家都一直复用的东西，比如user_type写成了一个工具类\n",
    "\n",
    "```bash\n",
    "├─dbx\n",
    "│  │  .gitignore\n",
    "│  │  README.md\n",
    "│  │  requirements.txt\n",
    "│  │  setup.py\n",
    "│  │\n",
    "│  └─dbx\n",
    "│          config.py\n",
    "│          dbtools.py\n",
    "│          db_log_tools.py\n",
    "│          increment.py\n",
    "│          parallel.py\n",
    "│          __init__.py\n",
    "```\n",
    "\n",
    "\n",
    "# 项目\n",
    "1. 运行某个特定的业务场景 - KPI， t表， 模型什么的\n",
    "2. 某一个看着像功能，但是里面又100000000个sql的东西，基本像写死了的东西\n",
    "**随便写，最后有一个程序入口就行了， 不管你是一个文件夹一堆东西，还是什么什么的，最后有一个能跑起来的东西就行了**    \n",
    "你可以是一个文件夹，你就不一定要打包，你也可以import自己的文件夹里面的其他东西的\n",
    "\n",
    "`app.py`\n",
    "```python\n",
    "\n",
    "from flask import Flask, jsonify\n",
    "\n",
    "app = Flask(__name__)\n",
    "\n",
    "@app.route('/store',methods = ['POST'])\n",
    "def create_store():\n",
    "    pass\n",
    "\n",
    "@app.route('/store/<string:name>',methods = ['GET'])\n",
    "def get_store(name):\n",
    "    pass\n",
    "\n",
    "@app.route('/store/<string:name>/item',methods = ['GET'])\n",
    "def get_items_in_store(name):\n",
    "    pass\n",
    "\n",
    "app.run(port = 5000)\n",
    "```\n",
    "\n",
    "或者，就是一段简单的python程序\n",
    "\n",
    "```python\n",
    "if __name__ =='__main__':\n",
    "    print('Hello world')\n",
    "\n",
    "```\n",
    "\n",
    "\n",
    "#### 你只有一个.py的情况下，不用新建一个项目，包含再一个叫什么什么报表的Repo就好了\n",
    "\n",
    "\n",
    "# 打包\n",
    "\n",
    "`https://github.com/Camel-Data/document/blob/main/pypi/pypi%20documentation.md`\n",
    "\n",
    "```bash\n",
    "pip install pack_name\n",
    "pip install pack_name --upgrade\n",
    "```\n",
    "\n",
    "# 版本\n",
    "\n",
    "同一个版本，不能多次上传到Pypi私服上面去的，你要更新一下版本号\n",
    "\n",
    "\n",
    "### 先手动删除一下build， dist， egg_info我搞明白自动删除了告诉你们\n",
    "\n",
    "```python\n",
    "from setuptools import setup\n",
    "\n",
    "\n",
    "setup(name='dbx',\n",
    "      version='0.0.4',\n",
    "      description='Database connection tools',\n",
    "      author='My name is Barry Ellen, The fastest man alive',\n",
    "      packages=['dbx'],\n",
    "      install_requires=['pymysql','pandas','tqdm',\n",
    "      'sqlalchemy','pyathena','matplotlib'])\n",
    "\n",
    "```\n",
    "\n",
    "\n",
    "\n",
    "```bash\n",
    "C:.\n",
    "│   .gitignore\n",
    "│   README.md\n",
    "│   requirements.txt\n",
    "│   setup.py\n",
    "│\n",
    "├───build\n",
    "│   ├───bdist.win-amd64\n",
    "│   └───lib\n",
    "│       └───dbx\n",
    "│               config.py\n",
    "│               dbtools.py\n",
    "│               db_log_tools.py\n",
    "│               increment.py\n",
    "│               parallel.py\n",
    "│               __init__.py\n",
    "│\n",
    "├───dbx\n",
    "│   │   config.py\n",
    "│   │   dbtools.py\n",
    "│   │   db_log_tools.py\n",
    "│   │   increment.py\n",
    "│   │   parallel.py\n",
    "│   │   __init__.py\n",
    "│\n",
    "├───dbx.egg-info\n",
    "│       dependency_links.txt\n",
    "│       PKG-INFO\n",
    "│       requires.txt\n",
    "│       SOURCES.txt\n",
    "│       top_level.txt\n",
    "│\n",
    "└───dist\n",
    "        dbx-0.0.4-py3-none-any.whl\n",
    "        dbx-0.0.4.tar.gz\n",
    "\n",
    "```"
   ]
  },
  {
   "cell_type": "markdown",
   "metadata": {},
   "source": [
    "```bash\n",
    "T_table_monitor_aoz.py\n",
    "T_table_abnormals_monitor_wao.py\n",
    "T_table_abnormals_monitor_wof.py  \n",
    "KPI_abnormals_monitor_aoz.py\n",
    "KPI_abnormals_monitor_wao.py\n",
    "KPI_abnormals_monitor_wof.py\n",
    "\n",
    "```"
   ]
  },
  {
   "cell_type": "markdown",
   "metadata": {},
   "source": []
  },
  {
   "cell_type": "code",
   "execution_count": null,
   "metadata": {},
   "outputs": [],
   "source": []
  }
 ],
 "metadata": {
  "kernelspec": {
   "display_name": "Python 3",
   "language": "python",
   "name": "python3"
  },
  "language_info": {
   "codemirror_mode": {
    "name": "ipython",
    "version": 3
   },
   "file_extension": ".py",
   "mimetype": "text/x-python",
   "name": "python",
   "nbconvert_exporter": "python",
   "pygments_lexer": "ipython3",
   "version": "3.8.3"
  }
 },
 "nbformat": 4,
 "nbformat_minor": 4
}
